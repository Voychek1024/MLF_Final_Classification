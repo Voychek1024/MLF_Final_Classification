{
 "cells": [
  {
   "cell_type": "code",
   "execution_count": 1,
   "metadata": {
    "collapsed": true,
    "jupyter": {
     "outputs_hidden": true
    }
   },
   "outputs": [
    {
     "name": "stdout",
     "output_type": "stream",
     "text": [
      "['0' '0' '0' ... '1' '1' '1']\n"
     ]
    }
   ],
   "source": [
    "import numpy as np\n",
    "\n",
    "fileNames = np.loadtxt('train_diagnose.txt', dtype=np.str, delimiter='\\t')\n",
    "# np.random.shuffle(fileNames)\n",
    "\n",
    "testNames = np.loadtxt('test_diagnose.txt', dtype=np.str, delimiter='\\t')\n",
    "# np.random.shuffle(testNames)"
   ]
  },
  {
   "cell_type": "code",
   "execution_count": 2,
   "metadata": {
    "collapsed": false,
    "jupyter": {
     "outputs_hidden": false
    },
    "pycharm": {
     "name": "#%%\n"
    }
   },
   "outputs": [
    {
     "name": "stderr",
     "output_type": "stream",
     "text": [
      "<ipython-input-2-6aed46122b67>:12: VisibleDeprecationWarning: Creating an ndarray from ragged nested sequences (which is a list-or-tuple of lists-or-tuples-or ndarrays with different lengths or shapes) is deprecated. If you meant to do this, you must specify 'dtype=object' when creating the ndarray\n",
      "  data = np.array(data)\n",
      "<ipython-input-2-6aed46122b67>:24: VisibleDeprecationWarning: Creating an ndarray from ragged nested sequences (which is a list-or-tuple of lists-or-tuples-or ndarrays with different lengths or shapes) is deprecated. If you meant to do this, you must specify 'dtype=object' when creating the ndarray\n",
      "  t_data = np.array(t_data)\n"
     ]
    },
    {
     "name": "stdout",
     "output_type": "stream",
     "text": [
      "[0 0 0 ... 1 1 1]\n"
     ]
    }
   ],
   "source": [
    "import cv2\n",
    "import collections\n",
    "data = []\n",
    "labels = []\n",
    "for i in range(len(fileNames)):\n",
    "    label = fileNames[i][1]\n",
    "    image = cv2.imread(fileNames[i][0])\n",
    "    image = cv2.cvtColor(image, cv2.COLOR_BGR2GRAY)\n",
    "    data.append(image)\n",
    "    labels.append(int(label))\n",
    "\n",
    "data = np.array(data)\n",
    "labels = np.array(labels)\n",
    "\n",
    "t_data = []\n",
    "t_labels = []\n",
    "for i in range(len(testNames)):\n",
    "    label = testNames[i][1]\n",
    "    image = cv2.imread(testNames[i][0])\n",
    "    image = cv2.cvtColor(image, cv2.COLOR_BGR2GRAY)\n",
    "    t_data.append(image)\n",
    "    t_labels.append(int(label))\n",
    "\n",
    "t_data = np.array(t_data)\n",
    "t_labels = np.array(t_labels)\n",
    "\n",
    "collections.Counter(t_labels)\n",
    "print(labels)"
   ]
  },
  {
   "cell_type": "code",
   "execution_count": 3,
   "metadata": {
    "collapsed": false,
    "jupyter": {
     "outputs_hidden": false
    },
    "pycharm": {
     "name": "#%%\n"
    }
   },
   "outputs": [
    {
     "name": "stdout",
     "output_type": "stream",
     "text": [
      "Counter({1: 390, 0: 234})\n",
      "[[0.]\n",
      " [0.]\n",
      " [0.]\n",
      " ...\n",
      " [1.]\n",
      " [1.]\n",
      " [1.]]\n"
     ]
    }
   ],
   "source": [
    "import collections\n",
    "print(collections.Counter(t_labels))\n",
    "\n",
    "def label2d(_labels):\n",
    "    _labels_2d = np.ndarray(shape=(len(_labels), 1))\n",
    "    for j in range(len(_labels)):\n",
    "        _labels_2d[j,:] = _labels[j]\n",
    "    # print(_labels_2d)\n",
    "    return _labels_2d\n",
    "\n",
    "labels_2d = label2d(labels)\n",
    "t_labels_2d = label2d(t_labels)\n",
    "print(labels_2d)"
   ]
  },
  {
   "cell_type": "code",
   "execution_count": 4,
   "metadata": {
    "collapsed": false,
    "jupyter": {
     "outputs_hidden": false
    },
    "pycharm": {
     "name": "#%%\n"
    }
   },
   "outputs": [
    {
     "name": "stdout",
     "output_type": "stream",
     "text": [
      "[[1. 0.]\n",
      " [1. 0.]\n",
      " [1. 0.]\n",
      " ...\n",
      " [0. 1.]\n",
      " [0. 1.]\n",
      " [0. 1.]]\n",
      "Total classes:  2\n"
     ]
    }
   ],
   "source": [
    "from sklearn.preprocessing import OneHotEncoder\n",
    "encoder = OneHotEncoder(sparse=False)\n",
    "labels_trans = encoder.fit_transform(labels_2d)\n",
    "t_labels_trans = encoder.fit_transform(t_labels_2d)\n",
    "print(labels_trans)\n",
    "print(\"Total classes: \", labels_trans.ndim)"
   ]
  },
  {
   "cell_type": "code",
   "execution_count": 5,
   "metadata": {
    "collapsed": false,
    "jupyter": {
     "outputs_hidden": false
    },
    "pycharm": {
     "name": "#%%\n"
    }
   },
   "outputs": [],
   "source": [
    "from torchvision.transforms import transforms\n",
    "# define transforms\n",
    "train_transform = transforms.Compose(\n",
    "    [transforms.ToPILImage(),\n",
    "\t transforms.Resize((224, 224)),\n",
    "     transforms.ToTensor(),\n",
    "     transforms.Normalize(mean=[0.485], std=[0.229])\n",
    "    ])\n",
    "val_transform = transforms.Compose(\n",
    "    [transforms.ToPILImage(),\n",
    "\t transforms.Resize((224, 224)),\n",
    "     transforms.ToTensor(),\n",
    "     transforms.Normalize(mean=[0.485], std=[0.229])\n",
    "    ])"
   ]
  },
  {
   "cell_type": "code",
   "execution_count": 6,
   "metadata": {
    "collapsed": false,
    "jupyter": {
     "outputs_hidden": false
    },
    "pycharm": {
     "name": "#%%\n"
    }
   },
   "outputs": [
    {
     "name": "stdout",
     "output_type": "stream",
     "text": [
      "x_train examples: (3138,)\n",
      "x_test examples: (1047,)\n",
      "x_val examples: (1047,)\n",
      "<class 'numpy.ndarray'>\n",
      "[[0. 1.]\n",
      " [0. 1.]\n",
      " [0. 1.]\n",
      " ...\n",
      " [1. 0.]\n",
      " [0. 1.]\n",
      " [0. 1.]]\n"
     ]
    }
   ],
   "source": [
    "from sklearn.model_selection import train_test_split\n",
    "# 可改变，尝试使用给出的Eval.txt和Test.txt\n",
    "# divide the data into train, validation, and test set\n",
    "(X, x_val , Y, y_val) = train_test_split(data, labels_trans,\n",
    "                                                    test_size=0.2,\n",
    "                                                    stratify=labels,\n",
    "                                                    random_state=42)\n",
    "\n",
    "(x_train, x_test, y_train, y_test) = train_test_split(X, Y,\n",
    "                                                    test_size=0.25,\n",
    "                                                    random_state=42)\n",
    "(x_ftest, y_ftest) = (t_data, t_labels_trans)\n",
    "print(f\"x_train examples: {x_train.shape}\\nx_test examples: {x_test.shape}\\nx_val examples: {x_val.shape}\")\n",
    "print(type(x_train))\n",
    "print(y_val)"
   ]
  },
  {
   "cell_type": "code",
   "execution_count": 7,
   "metadata": {
    "collapsed": false,
    "jupyter": {
     "outputs_hidden": false
    },
    "pycharm": {
     "name": "#%%\n"
    }
   },
   "outputs": [
    {
     "data": {
      "text/plain": [
       "'SEED Everything'"
      ]
     },
     "execution_count": 7,
     "metadata": {},
     "output_type": "execute_result"
    }
   ],
   "source": [
    "import matplotlib.pyplot as plt\n",
    "import matplotlib\n",
    "import joblib\n",
    "import cv2\n",
    "import os\n",
    "import torch\n",
    "import numpy as np\n",
    "import torch.nn as nn\n",
    "import torch.nn.functional as F\n",
    "import torch.optim as optim\n",
    "import time\n",
    "import random\n",
    "\n",
    "from sklearn.preprocessing import LabelBinarizer\n",
    "from sklearn.model_selection import train_test_split\n",
    "from torchvision.transforms import transforms\n",
    "from torch.utils.data import DataLoader, Dataset\n",
    "from tqdm import tqdm\n",
    "\n",
    "matplotlib.style.use('ggplot')\n",
    "\n",
    "'''SEED Everything'''\n",
    "def seed_everything(SEED=42):\n",
    "    random.seed(SEED)\n",
    "    np.random.seed(SEED)\n",
    "    torch.manual_seed(SEED)\n",
    "    torch.cuda.manual_seed(SEED)\n",
    "    torch.cuda.manual_seed_all(SEED)\n",
    "    torch.backends.cudnn.benchmark = True # keep True if all the input have same size.\n",
    "SEED=42\n",
    "seed_everything(SEED=SEED)\n",
    "'''SEED Everything'''"
   ]
  },
  {
   "cell_type": "code",
   "execution_count": 8,
   "metadata": {
    "collapsed": false,
    "jupyter": {
     "outputs_hidden": false
    },
    "pycharm": {
     "name": "#%%\n"
    }
   },
   "outputs": [
    {
     "name": "stdout",
     "output_type": "stream",
     "text": [
      "using cuda\n"
     ]
    }
   ],
   "source": [
    "if torch.cuda.is_available():\n",
    "    print('using cuda')\n",
    "\n",
    "epochs = 40\n",
    "BATCH_SIZE = 32"
   ]
  },
  {
   "cell_type": "code",
   "execution_count": 9,
   "metadata": {
    "collapsed": false,
    "jupyter": {
     "outputs_hidden": false
    },
    "pycharm": {
     "name": "#%%\n"
    }
   },
   "outputs": [],
   "source": [
    "from torch.utils.data import DataLoader, Dataset\n",
    "# custom dataset\n",
    "class ImageDataset(Dataset):\n",
    "    def __init__(self, images, labels=None, transforms=None):\n",
    "        self.X = images\n",
    "        self.y = labels\n",
    "        self.transforms = transforms\n",
    "\n",
    "    def __len__(self):\n",
    "        return len(self.X)\n",
    "\n",
    "    def __getitem__(self, i):\n",
    "        data = self.X[i][:]\n",
    "\n",
    "        if self.transforms:\n",
    "            data = self.transforms(data)\n",
    "\n",
    "        if self.y is not None:\n",
    "            return data, self.y[i]\n",
    "        else:\n",
    "            return data\n",
    "\n",
    "train_data = ImageDataset(x_train, y_train, train_transform)\n",
    "val_data = ImageDataset(x_val, y_val, val_transform)\n",
    "# test_data = ImageDataset(x_test, y_test, val_transform)\n",
    "# print(x_test)\n",
    "# print(val_transform)\n",
    "test_data = ImageDataset(x_test, y_test, val_transform)\n",
    "final_test_data = ImageDataset(x_ftest, y_ftest, val_transform)"
   ]
  },
  {
   "cell_type": "code",
   "execution_count": 10,
   "metadata": {
    "collapsed": false,
    "jupyter": {
     "outputs_hidden": false
    },
    "pycharm": {
     "name": "#%%\n"
    }
   },
   "outputs": [],
   "source": [
    "# dataloaders\n",
    "trainloader = DataLoader(train_data, batch_size=BATCH_SIZE, shuffle=True)\n",
    "valloader = DataLoader(val_data, batch_size=BATCH_SIZE, shuffle=True)\n",
    "testloader = DataLoader(test_data, batch_size=BATCH_SIZE, shuffle=True)"
   ]
  },
  {
   "cell_type": "code",
   "execution_count": 11,
   "metadata": {
    "collapsed": false,
    "jupyter": {
     "outputs_hidden": false
    },
    "pycharm": {
     "name": "#%%\n"
    }
   },
   "outputs": [
    {
     "name": "stdout",
     "output_type": "stream",
     "text": [
      "MyResNet(\n",
      "  (model): ResNet(\n",
      "    (conv1): Conv2d(1, 64, kernel_size=(7, 7), stride=(2, 2), padding=(3, 3), bias=False)\n",
      "    (bn1): BatchNorm2d(64, eps=1e-05, momentum=0.1, affine=True, track_running_stats=True)\n",
      "    (relu): ReLU(inplace=True)\n",
      "    (maxpool): MaxPool2d(kernel_size=3, stride=2, padding=1, dilation=1, ceil_mode=False)\n",
      "    (layer1): Sequential(\n",
      "      (0): BasicBlock(\n",
      "        (conv1): Conv2d(64, 64, kernel_size=(3, 3), stride=(1, 1), padding=(1, 1), bias=False)\n",
      "        (bn1): BatchNorm2d(64, eps=1e-05, momentum=0.1, affine=True, track_running_stats=True)\n",
      "        (relu): ReLU(inplace=True)\n",
      "        (conv2): Conv2d(64, 64, kernel_size=(3, 3), stride=(1, 1), padding=(1, 1), bias=False)\n",
      "        (bn2): BatchNorm2d(64, eps=1e-05, momentum=0.1, affine=True, track_running_stats=True)\n",
      "      )\n",
      "      (1): BasicBlock(\n",
      "        (conv1): Conv2d(64, 64, kernel_size=(3, 3), stride=(1, 1), padding=(1, 1), bias=False)\n",
      "        (bn1): BatchNorm2d(64, eps=1e-05, momentum=0.1, affine=True, track_running_stats=True)\n",
      "        (relu): ReLU(inplace=True)\n",
      "        (conv2): Conv2d(64, 64, kernel_size=(3, 3), stride=(1, 1), padding=(1, 1), bias=False)\n",
      "        (bn2): BatchNorm2d(64, eps=1e-05, momentum=0.1, affine=True, track_running_stats=True)\n",
      "      )\n",
      "      (2): BasicBlock(\n",
      "        (conv1): Conv2d(64, 64, kernel_size=(3, 3), stride=(1, 1), padding=(1, 1), bias=False)\n",
      "        (bn1): BatchNorm2d(64, eps=1e-05, momentum=0.1, affine=True, track_running_stats=True)\n",
      "        (relu): ReLU(inplace=True)\n",
      "        (conv2): Conv2d(64, 64, kernel_size=(3, 3), stride=(1, 1), padding=(1, 1), bias=False)\n",
      "        (bn2): BatchNorm2d(64, eps=1e-05, momentum=0.1, affine=True, track_running_stats=True)\n",
      "      )\n",
      "    )\n",
      "    (layer2): Sequential(\n",
      "      (0): BasicBlock(\n",
      "        (conv1): Conv2d(64, 128, kernel_size=(3, 3), stride=(2, 2), padding=(1, 1), bias=False)\n",
      "        (bn1): BatchNorm2d(128, eps=1e-05, momentum=0.1, affine=True, track_running_stats=True)\n",
      "        (relu): ReLU(inplace=True)\n",
      "        (conv2): Conv2d(128, 128, kernel_size=(3, 3), stride=(1, 1), padding=(1, 1), bias=False)\n",
      "        (bn2): BatchNorm2d(128, eps=1e-05, momentum=0.1, affine=True, track_running_stats=True)\n",
      "        (downsample): Sequential(\n",
      "          (0): Conv2d(64, 128, kernel_size=(1, 1), stride=(2, 2), bias=False)\n",
      "          (1): BatchNorm2d(128, eps=1e-05, momentum=0.1, affine=True, track_running_stats=True)\n",
      "        )\n",
      "      )\n",
      "      (1): BasicBlock(\n",
      "        (conv1): Conv2d(128, 128, kernel_size=(3, 3), stride=(1, 1), padding=(1, 1), bias=False)\n",
      "        (bn1): BatchNorm2d(128, eps=1e-05, momentum=0.1, affine=True, track_running_stats=True)\n",
      "        (relu): ReLU(inplace=True)\n",
      "        (conv2): Conv2d(128, 128, kernel_size=(3, 3), stride=(1, 1), padding=(1, 1), bias=False)\n",
      "        (bn2): BatchNorm2d(128, eps=1e-05, momentum=0.1, affine=True, track_running_stats=True)\n",
      "      )\n",
      "      (2): BasicBlock(\n",
      "        (conv1): Conv2d(128, 128, kernel_size=(3, 3), stride=(1, 1), padding=(1, 1), bias=False)\n",
      "        (bn1): BatchNorm2d(128, eps=1e-05, momentum=0.1, affine=True, track_running_stats=True)\n",
      "        (relu): ReLU(inplace=True)\n",
      "        (conv2): Conv2d(128, 128, kernel_size=(3, 3), stride=(1, 1), padding=(1, 1), bias=False)\n",
      "        (bn2): BatchNorm2d(128, eps=1e-05, momentum=0.1, affine=True, track_running_stats=True)\n",
      "      )\n",
      "      (3): BasicBlock(\n",
      "        (conv1): Conv2d(128, 128, kernel_size=(3, 3), stride=(1, 1), padding=(1, 1), bias=False)\n",
      "        (bn1): BatchNorm2d(128, eps=1e-05, momentum=0.1, affine=True, track_running_stats=True)\n",
      "        (relu): ReLU(inplace=True)\n",
      "        (conv2): Conv2d(128, 128, kernel_size=(3, 3), stride=(1, 1), padding=(1, 1), bias=False)\n",
      "        (bn2): BatchNorm2d(128, eps=1e-05, momentum=0.1, affine=True, track_running_stats=True)\n",
      "      )\n",
      "    )\n",
      "    (layer3): Sequential(\n",
      "      (0): BasicBlock(\n",
      "        (conv1): Conv2d(128, 256, kernel_size=(3, 3), stride=(2, 2), padding=(1, 1), bias=False)\n",
      "        (bn1): BatchNorm2d(256, eps=1e-05, momentum=0.1, affine=True, track_running_stats=True)\n",
      "        (relu): ReLU(inplace=True)\n",
      "        (conv2): Conv2d(256, 256, kernel_size=(3, 3), stride=(1, 1), padding=(1, 1), bias=False)\n",
      "        (bn2): BatchNorm2d(256, eps=1e-05, momentum=0.1, affine=True, track_running_stats=True)\n",
      "        (downsample): Sequential(\n",
      "          (0): Conv2d(128, 256, kernel_size=(1, 1), stride=(2, 2), bias=False)\n",
      "          (1): BatchNorm2d(256, eps=1e-05, momentum=0.1, affine=True, track_running_stats=True)\n",
      "        )\n",
      "      )\n",
      "      (1): BasicBlock(\n",
      "        (conv1): Conv2d(256, 256, kernel_size=(3, 3), stride=(1, 1), padding=(1, 1), bias=False)\n",
      "        (bn1): BatchNorm2d(256, eps=1e-05, momentum=0.1, affine=True, track_running_stats=True)\n",
      "        (relu): ReLU(inplace=True)\n",
      "        (conv2): Conv2d(256, 256, kernel_size=(3, 3), stride=(1, 1), padding=(1, 1), bias=False)\n",
      "        (bn2): BatchNorm2d(256, eps=1e-05, momentum=0.1, affine=True, track_running_stats=True)\n",
      "      )\n",
      "      (2): BasicBlock(\n",
      "        (conv1): Conv2d(256, 256, kernel_size=(3, 3), stride=(1, 1), padding=(1, 1), bias=False)\n",
      "        (bn1): BatchNorm2d(256, eps=1e-05, momentum=0.1, affine=True, track_running_stats=True)\n",
      "        (relu): ReLU(inplace=True)\n",
      "        (conv2): Conv2d(256, 256, kernel_size=(3, 3), stride=(1, 1), padding=(1, 1), bias=False)\n",
      "        (bn2): BatchNorm2d(256, eps=1e-05, momentum=0.1, affine=True, track_running_stats=True)\n",
      "      )\n",
      "      (3): BasicBlock(\n",
      "        (conv1): Conv2d(256, 256, kernel_size=(3, 3), stride=(1, 1), padding=(1, 1), bias=False)\n",
      "        (bn1): BatchNorm2d(256, eps=1e-05, momentum=0.1, affine=True, track_running_stats=True)\n",
      "        (relu): ReLU(inplace=True)\n",
      "        (conv2): Conv2d(256, 256, kernel_size=(3, 3), stride=(1, 1), padding=(1, 1), bias=False)\n",
      "        (bn2): BatchNorm2d(256, eps=1e-05, momentum=0.1, affine=True, track_running_stats=True)\n",
      "      )\n",
      "      (4): BasicBlock(\n",
      "        (conv1): Conv2d(256, 256, kernel_size=(3, 3), stride=(1, 1), padding=(1, 1), bias=False)\n",
      "        (bn1): BatchNorm2d(256, eps=1e-05, momentum=0.1, affine=True, track_running_stats=True)\n",
      "        (relu): ReLU(inplace=True)\n",
      "        (conv2): Conv2d(256, 256, kernel_size=(3, 3), stride=(1, 1), padding=(1, 1), bias=False)\n",
      "        (bn2): BatchNorm2d(256, eps=1e-05, momentum=0.1, affine=True, track_running_stats=True)\n",
      "      )\n",
      "      (5): BasicBlock(\n",
      "        (conv1): Conv2d(256, 256, kernel_size=(3, 3), stride=(1, 1), padding=(1, 1), bias=False)\n",
      "        (bn1): BatchNorm2d(256, eps=1e-05, momentum=0.1, affine=True, track_running_stats=True)\n",
      "        (relu): ReLU(inplace=True)\n",
      "        (conv2): Conv2d(256, 256, kernel_size=(3, 3), stride=(1, 1), padding=(1, 1), bias=False)\n",
      "        (bn2): BatchNorm2d(256, eps=1e-05, momentum=0.1, affine=True, track_running_stats=True)\n",
      "      )\n",
      "    )\n",
      "    (layer4): Sequential(\n",
      "      (0): BasicBlock(\n",
      "        (conv1): Conv2d(256, 512, kernel_size=(3, 3), stride=(2, 2), padding=(1, 1), bias=False)\n",
      "        (bn1): BatchNorm2d(512, eps=1e-05, momentum=0.1, affine=True, track_running_stats=True)\n",
      "        (relu): ReLU(inplace=True)\n",
      "        (conv2): Conv2d(512, 512, kernel_size=(3, 3), stride=(1, 1), padding=(1, 1), bias=False)\n",
      "        (bn2): BatchNorm2d(512, eps=1e-05, momentum=0.1, affine=True, track_running_stats=True)\n",
      "        (downsample): Sequential(\n",
      "          (0): Conv2d(256, 512, kernel_size=(1, 1), stride=(2, 2), bias=False)\n",
      "          (1): BatchNorm2d(512, eps=1e-05, momentum=0.1, affine=True, track_running_stats=True)\n",
      "        )\n",
      "      )\n",
      "      (1): BasicBlock(\n",
      "        (conv1): Conv2d(512, 512, kernel_size=(3, 3), stride=(1, 1), padding=(1, 1), bias=False)\n",
      "        (bn1): BatchNorm2d(512, eps=1e-05, momentum=0.1, affine=True, track_running_stats=True)\n",
      "        (relu): ReLU(inplace=True)\n",
      "        (conv2): Conv2d(512, 512, kernel_size=(3, 3), stride=(1, 1), padding=(1, 1), bias=False)\n",
      "        (bn2): BatchNorm2d(512, eps=1e-05, momentum=0.1, affine=True, track_running_stats=True)\n",
      "      )\n",
      "      (2): BasicBlock(\n",
      "        (conv1): Conv2d(512, 512, kernel_size=(3, 3), stride=(1, 1), padding=(1, 1), bias=False)\n",
      "        (bn1): BatchNorm2d(512, eps=1e-05, momentum=0.1, affine=True, track_running_stats=True)\n",
      "        (relu): ReLU(inplace=True)\n",
      "        (conv2): Conv2d(512, 512, kernel_size=(3, 3), stride=(1, 1), padding=(1, 1), bias=False)\n",
      "        (bn2): BatchNorm2d(512, eps=1e-05, momentum=0.1, affine=True, track_running_stats=True)\n",
      "      )\n",
      "    )\n",
      "    (avgpool): AdaptiveAvgPool2d(output_size=(1, 1))\n",
      "    (fc): Sequential(\n",
      "      (fc1): Linear(in_features=512, out_features=256, bias=True)\n",
      "      (activation1): ReLU()\n",
      "      (fc2): Linear(in_features=256, out_features=128, bias=True)\n",
      "      (activation2): ReLU()\n",
      "      (fc3): Linear(in_features=128, out_features=2, bias=True)\n",
      "      (out): Sigmoid()\n",
      "    )\n",
      "  )\n",
      ")\n"
     ]
    }
   ],
   "source": [
    "import torchvision\n",
    "# the resnet34 model\n",
    "class MyResNet(nn.Module):\n",
    "    def __init__(self, in_channels=1):\n",
    "        super(MyResNet, self).__init__()\n",
    "        # bring resnet\n",
    "        self.model = torchvision.models.resnet34(pretrained=True)\n",
    "        for params in self.model.parameters():\n",
    "            params.requires_grad = False\n",
    "\n",
    "        layers_resnet = nn.Sequential(collections.OrderedDict([\n",
    "                ('fc1', nn.Linear(512, 256)),\n",
    "                ('activation1', nn.ReLU()),\n",
    "                ('fc2', nn.Linear(256, 128)),\n",
    "                ('activation2', nn.ReLU()),\n",
    "                ('fc3', nn.Linear(128, 2)),\n",
    "                ('out', nn.Sigmoid())\n",
    "            ]))\n",
    "\n",
    "        self.model.fc = layers_resnet\n",
    "        self.model.conv1 = nn.Conv2d(in_channels, 64, kernel_size=7, stride=2, padding=3, bias=False)\n",
    "\n",
    "    def forward(self, x):\n",
    "        return self.model(x)\n",
    "\n",
    "device = torch.device('cuda' if torch.cuda.is_available() else 'cpu')\n",
    "model = MyResNet().to(device)\n",
    "print(model)"
   ]
  },
  {
   "cell_type": "code",
   "execution_count": 12,
   "metadata": {
    "collapsed": false,
    "jupyter": {
     "outputs_hidden": false
    },
    "pycharm": {
     "name": "#%%\n"
    }
   },
   "outputs": [],
   "source": [
    "optimizer = optim.Adam(model.parameters(), lr=1e-4)\n",
    "criterion = nn.CrossEntropyLoss()"
   ]
  },
  {
   "cell_type": "code",
   "execution_count": 13,
   "metadata": {
    "collapsed": false,
    "jupyter": {
     "outputs_hidden": false
    },
    "pycharm": {
     "name": "#%%\n"
    }
   },
   "outputs": [],
   "source": [
    "# training function\n",
    "def fit(model, dataloader):\n",
    "    print('Training')\n",
    "    model.train()\n",
    "    running_loss = 0.0\n",
    "    running_correct = 0\n",
    "    for i, data in tqdm(enumerate(dataloader), total=int(len(train_data)/dataloader.batch_size)):\n",
    "        data, target = data[0].to(device), data[1].to(device=device, dtype=torch.int32)\n",
    "        optimizer.zero_grad()\n",
    "        outputs = model(data)\n",
    "        loss = criterion(outputs, torch.max(target, 1)[1])\n",
    "        running_loss += loss.item()\n",
    "        _, preds = torch.max(outputs.data, 1)\n",
    "        running_correct += (preds == torch.max(target, 1)[1]).sum().item()\n",
    "        loss.backward()\n",
    "        optimizer.step()\n",
    "\n",
    "    loss = running_loss/len(dataloader.dataset)\n",
    "    accuracy = 100. * running_correct/len(dataloader.dataset)\n",
    "\n",
    "    print(f\"Train Loss: {loss:.4f}, Train Acc: {accuracy:.2f}\")\n",
    "\n",
    "    return loss, accuracy"
   ]
  },
  {
   "cell_type": "code",
   "execution_count": 14,
   "metadata": {
    "collapsed": false,
    "jupyter": {
     "outputs_hidden": false
    },
    "pycharm": {
     "name": "#%%\n"
    }
   },
   "outputs": [],
   "source": [
    "#validation function\n",
    "def validate(model, dataloader):\n",
    "    print('Validating')\n",
    "    model.eval()\n",
    "    running_loss = 0.0\n",
    "    running_correct = 0\n",
    "    with torch.no_grad():\n",
    "        for i, data in tqdm(enumerate(dataloader), total=int(len(val_data)/dataloader.batch_size)):\n",
    "            data, target = data[0].to(device), data[1].to(device=device, dtype=torch.int32)\n",
    "            outputs = model(data)\n",
    "            loss = criterion(outputs, torch.max(target, 1)[1])\n",
    "            running_loss += loss.item()\n",
    "            _, preds = torch.max(outputs.data, 1)\n",
    "            running_correct += (preds == torch.max(target, 1)[1]).sum().item()\n",
    "\n",
    "        loss = running_loss/len(dataloader.dataset)\n",
    "        accuracy = 100. * running_correct/len(dataloader.dataset)\n",
    "        print(f'Val Loss: {loss:.4f}, Val Acc: {accuracy:.2f}')\n",
    "\n",
    "        return loss, accuracy"
   ]
  },
  {
   "cell_type": "code",
   "execution_count": 15,
   "metadata": {
    "collapsed": false,
    "jupyter": {
     "outputs_hidden": false
    },
    "pycharm": {
     "name": "#%%\n"
    }
   },
   "outputs": [],
   "source": [
    "import monai\n",
    "def test(model, dataloader):\n",
    "    _correct = 0\n",
    "    _total = 0\n",
    "    with open('result_raw.txt', 'w') as out_file:\n",
    "        with torch.no_grad():\n",
    "            for data in dataloader:\n",
    "                # print(data[1])\n",
    "                inputs, target = data[0].to(device), data[1].to(device=device, dtype=torch.int32)\n",
    "                outputs = model(inputs)\n",
    "                _, predicted = torch.max(outputs.data, 1)\n",
    "                print(predicted)\n",
    "                # print()\n",
    "                out_file.write(str(predicted))\n",
    "                out_file.write('\\n')\n",
    "                _total += target.size(0)\n",
    "                _correct += (predicted == torch.max(target, 1)[1]).sum().item()\n",
    "\n",
    "    return _correct, _total"
   ]
  },
  {
   "cell_type": "code",
   "execution_count": 16,
   "metadata": {
    "collapsed": false,
    "jupyter": {
     "outputs_hidden": false
    },
    "pycharm": {
     "name": "#%%\n"
    }
   },
   "outputs": [
    {
     "name": "stderr",
     "output_type": "stream",
     "text": [
      "99it [00:13,  7.48it/s]                        \n",
      "33it [00:03,  8.48it/s]                        \n",
      "99it [00:10,  9.07it/s]                        \n",
      "33it [00:03,  9.69it/s]                        \n",
      "99it [00:10,  9.20it/s]                        \n",
      "33it [00:03,  9.91it/s]                        \n",
      "99it [00:10,  9.28it/s]                        \n",
      "33it [00:03,  9.84it/s]                        \n",
      "99it [00:10,  9.17it/s]                        \n",
      "33it [00:03,  9.77it/s]                        \n",
      "99it [00:11,  8.89it/s]                        \n",
      "33it [00:03,  9.69it/s]                        \n",
      "99it [00:10,  9.15it/s]                        \n",
      "33it [00:03, 10.06it/s]                        \n",
      "99it [00:10,  9.00it/s]                        \n",
      "33it [00:03,  9.56it/s]                        \n",
      "99it [00:10,  9.15it/s]                        \n",
      "33it [00:03,  9.64it/s]                        \n",
      "99it [00:10,  9.20it/s]                        \n",
      "33it [00:03,  9.60it/s]                        \n",
      "99it [00:10,  9.08it/s]                        \n",
      "33it [00:03,  9.81it/s]                        \n",
      "99it [00:10,  9.10it/s]                        \n",
      "33it [00:03,  9.82it/s]                        \n",
      "99it [00:11,  8.97it/s]                        \n",
      "33it [00:03,  9.59it/s]                        \n",
      "99it [00:10,  9.06it/s]                        \n",
      "33it [00:03,  9.73it/s]                        \n",
      "99it [00:11,  8.92it/s]                        \n",
      "33it [00:03,  9.52it/s]                        \n",
      "99it [00:10,  9.00it/s]                        \n",
      "33it [00:03,  9.53it/s]                        \n",
      "99it [00:11,  8.95it/s]                        \n",
      "33it [00:03,  9.66it/s]                        \n",
      "99it [00:10,  9.13it/s]                        \n",
      "33it [00:03,  9.75it/s]                        \n",
      "99it [00:10,  9.03it/s]                        \n",
      "33it [00:03,  9.36it/s]                        \n",
      "99it [00:11,  8.51it/s]                        \n",
      "33it [00:03,  8.80it/s]                        \n",
      "99it [00:11,  8.87it/s]                        \n",
      "33it [00:03,  9.73it/s]                        \n",
      "99it [00:10,  9.02it/s]                        \n",
      "33it [00:03,  9.59it/s]                        \n",
      "99it [00:10,  9.09it/s]                        \n",
      "33it [00:03,  9.62it/s]                        \n",
      "99it [00:10,  9.04it/s]                        \n",
      "33it [00:03,  9.85it/s]                        \n",
      "99it [00:11,  8.56it/s]                        \n",
      "33it [00:03,  8.76it/s]                        \n",
      "99it [00:11,  8.56it/s]                        \n",
      "33it [00:03,  9.30it/s]                        \n",
      "99it [00:10,  9.01it/s]                        \n",
      "33it [00:03,  9.58it/s]                        \n",
      "99it [00:11,  8.96it/s]                        \n",
      "33it [00:03,  9.52it/s]                        \n",
      "99it [00:11,  8.94it/s]                        \n",
      "33it [00:03,  9.45it/s]                        \n",
      "99it [00:11,  8.87it/s]                        \n",
      "33it [00:03,  9.73it/s]                        \n",
      "99it [00:10,  9.07it/s]                        \n",
      "33it [00:03,  9.54it/s]                        \n",
      "99it [00:10,  9.06it/s]                        \n",
      "33it [00:03,  9.76it/s]                        \n",
      "99it [00:10,  9.02it/s]                        \n",
      "33it [00:03,  9.62it/s]                        \n",
      "99it [00:11,  8.32it/s]                        \n",
      "33it [00:03,  9.36it/s]                        \n",
      "99it [00:11,  8.97it/s]                        \n",
      "33it [00:03,  9.43it/s]                        \n",
      "99it [00:10,  9.02it/s]                        \n",
      "33it [00:03,  9.61it/s]                        \n",
      "99it [00:11,  8.95it/s]                        \n",
      "33it [00:03,  9.18it/s]                        \n",
      "99it [00:10,  9.03it/s]                        \n",
      "33it [00:03,  9.48it/s]                        \n",
      "99it [00:11,  8.92it/s]                        \n",
      "33it [00:03,  9.49it/s]                        \n",
      "99it [00:11,  8.96it/s]                        \n",
      "33it [00:03,  9.55it/s]                        \n"
     ]
    },
    {
     "name": "stdout",
     "output_type": "stream",
     "text": [
      "Training on 3138 examples, validating on 1047 examples...\n",
      "Epoch 1 of 40\n",
      "Training\n",
      "Train Loss: 0.0180, Train Acc: 74.38\n",
      "Validating\n",
      "Val Loss: 0.0161, Val Acc: 75.93\n",
      "Epoch 2 of 40\n",
      "Training\n",
      "Train Loss: 0.0142, Train Acc: 88.88\n",
      "Validating\n",
      "Val Loss: 0.0129, Val Acc: 92.36\n",
      "Epoch 3 of 40\n",
      "Training\n",
      "Train Loss: 0.0126, Train Acc: 92.54\n",
      "Validating\n",
      "Val Loss: 0.0122, Val Acc: 93.22\n",
      "Epoch 4 of 40\n",
      "Training\n",
      "Train Loss: 0.0124, Train Acc: 92.48\n",
      "Validating\n",
      "Val Loss: 0.0123, Val Acc: 91.98\n",
      "Epoch 5 of 40\n",
      "Training\n",
      "Train Loss: 0.0119, Train Acc: 94.14\n",
      "Validating\n",
      "Val Loss: 0.0124, Val Acc: 91.31\n",
      "Epoch 6 of 40\n",
      "Training\n",
      "Train Loss: 0.0123, Train Acc: 93.18\n",
      "Validating\n",
      "Val Loss: 0.0120, Val Acc: 93.12\n",
      "Epoch 7 of 40\n",
      "Training\n",
      "Train Loss: 0.0118, Train Acc: 94.58\n",
      "Validating\n",
      "Val Loss: 0.0117, Val Acc: 94.17\n",
      "Epoch 8 of 40\n",
      "Training\n",
      "Train Loss: 0.0116, Train Acc: 94.90\n",
      "Validating\n",
      "Val Loss: 0.0118, Val Acc: 94.08\n",
      "Epoch 9 of 40\n",
      "Training\n",
      "Train Loss: 0.0115, Train Acc: 94.96\n",
      "Validating\n",
      "Val Loss: 0.0117, Val Acc: 94.08\n",
      "Epoch 10 of 40\n",
      "Training\n",
      "Train Loss: 0.0115, Train Acc: 95.03\n",
      "Validating\n",
      "Val Loss: 0.0115, Val Acc: 94.65\n",
      "Epoch 11 of 40\n",
      "Training\n",
      "Train Loss: 0.0117, Train Acc: 94.52\n",
      "Validating\n",
      "Val Loss: 0.0115, Val Acc: 94.94\n",
      "Epoch 12 of 40\n",
      "Training\n",
      "Train Loss: 0.0115, Train Acc: 95.19\n",
      "Validating\n",
      "Val Loss: 0.0114, Val Acc: 94.94\n",
      "Epoch 13 of 40\n",
      "Training\n",
      "Train Loss: 0.0114, Train Acc: 95.51\n",
      "Validating\n",
      "Val Loss: 0.0115, Val Acc: 94.75\n",
      "Epoch 14 of 40\n",
      "Training\n",
      "Train Loss: 0.0113, Train Acc: 95.51\n",
      "Validating\n",
      "Val Loss: 0.0116, Val Acc: 94.75\n",
      "Epoch 15 of 40\n",
      "Training\n",
      "Train Loss: 0.0113, Train Acc: 95.44\n",
      "Validating\n",
      "Val Loss: 0.0116, Val Acc: 94.36\n",
      "Epoch 16 of 40\n",
      "Training\n",
      "Train Loss: 0.0113, Train Acc: 95.44\n",
      "Validating\n",
      "Val Loss: 0.0114, Val Acc: 94.94\n",
      "Epoch 17 of 40\n",
      "Training\n",
      "Train Loss: 0.0114, Train Acc: 95.44\n",
      "Validating\n",
      "Val Loss: 0.0113, Val Acc: 95.32\n",
      "Epoch 18 of 40\n",
      "Training\n",
      "Train Loss: 0.0112, Train Acc: 95.57\n",
      "Validating\n",
      "Val Loss: 0.0114, Val Acc: 94.75\n",
      "Epoch 19 of 40\n",
      "Training\n",
      "Train Loss: 0.0112, Train Acc: 95.63\n",
      "Validating\n",
      "Val Loss: 0.0113, Val Acc: 95.70\n",
      "Epoch 20 of 40\n",
      "Training\n",
      "Train Loss: 0.0110, Train Acc: 96.14\n",
      "Validating\n",
      "Val Loss: 0.0112, Val Acc: 95.70\n",
      "Epoch 21 of 40\n",
      "Training\n",
      "Train Loss: 0.0111, Train Acc: 95.98\n",
      "Validating\n",
      "Val Loss: 0.0112, Val Acc: 95.80\n",
      "Epoch 22 of 40\n",
      "Training\n",
      "Train Loss: 0.0112, Train Acc: 95.67\n",
      "Validating\n",
      "Val Loss: 0.0114, Val Acc: 95.42\n",
      "Epoch 23 of 40\n",
      "Training\n",
      "Train Loss: 0.0110, Train Acc: 96.34\n",
      "Validating\n",
      "Val Loss: 0.0117, Val Acc: 94.17\n",
      "Epoch 24 of 40\n",
      "Training\n",
      "Train Loss: 0.0111, Train Acc: 96.02\n",
      "Validating\n",
      "Val Loss: 0.0113, Val Acc: 95.61\n",
      "Epoch 25 of 40\n",
      "Training\n",
      "Train Loss: 0.0111, Train Acc: 96.53\n",
      "Validating\n",
      "Val Loss: 0.0113, Val Acc: 95.22\n",
      "Epoch 26 of 40\n",
      "Training\n",
      "Train Loss: 0.0114, Train Acc: 96.08\n",
      "Validating\n",
      "Val Loss: 0.0113, Val Acc: 95.13\n",
      "Epoch 27 of 40\n",
      "Training\n",
      "Train Loss: 0.0110, Train Acc: 96.53\n",
      "Validating\n",
      "Val Loss: 0.0113, Val Acc: 95.42\n",
      "Epoch 28 of 40\n",
      "Training\n",
      "Train Loss: 0.0112, Train Acc: 96.18\n",
      "Validating\n",
      "Val Loss: 0.0113, Val Acc: 95.22\n",
      "Epoch 29 of 40\n",
      "Training\n",
      "Train Loss: 0.0111, Train Acc: 96.05\n",
      "Validating\n",
      "Val Loss: 0.0112, Val Acc: 95.61\n",
      "Epoch 30 of 40\n",
      "Training\n",
      "Train Loss: 0.0109, Train Acc: 96.62\n",
      "Validating\n",
      "Val Loss: 0.0112, Val Acc: 96.08\n",
      "Epoch 31 of 40\n",
      "Training\n",
      "Train Loss: 0.0111, Train Acc: 95.95\n",
      "Validating\n",
      "Val Loss: 0.0112, Val Acc: 95.61\n",
      "Epoch 32 of 40\n",
      "Training\n",
      "Train Loss: 0.0108, Train Acc: 96.91\n",
      "Validating\n",
      "Val Loss: 0.0113, Val Acc: 95.03\n",
      "Epoch 33 of 40\n",
      "Training\n",
      "Train Loss: 0.0111, Train Acc: 96.30\n",
      "Validating\n",
      "Val Loss: 0.0112, Val Acc: 95.61\n",
      "Epoch 34 of 40\n",
      "Training\n",
      "Train Loss: 0.0111, Train Acc: 96.08\n",
      "Validating\n",
      "Val Loss: 0.0113, Val Acc: 94.94\n",
      "Epoch 35 of 40\n",
      "Training\n",
      "Train Loss: 0.0112, Train Acc: 96.88\n",
      "Validating\n",
      "Val Loss: 0.0113, Val Acc: 95.03\n",
      "Epoch 36 of 40\n",
      "Training\n",
      "Train Loss: 0.0112, Train Acc: 95.89\n",
      "Validating\n",
      "Val Loss: 0.0114, Val Acc: 94.84\n",
      "Epoch 37 of 40\n",
      "Training\n",
      "Train Loss: 0.0111, Train Acc: 95.89\n",
      "Validating\n",
      "Val Loss: 0.0113, Val Acc: 95.61\n",
      "Epoch 38 of 40\n",
      "Training\n",
      "Train Loss: 0.0110, Train Acc: 96.88\n",
      "Validating\n",
      "Val Loss: 0.0113, Val Acc: 95.03\n",
      "Epoch 39 of 40\n",
      "Training\n",
      "Train Loss: 0.0109, Train Acc: 96.72\n",
      "Validating\n",
      "Val Loss: 0.0111, Val Acc: 95.70\n",
      "Epoch 40 of 40\n",
      "Training\n",
      "Train Loss: 0.0111, Train Acc: 97.10\n",
      "Validating\n",
      "Val Loss: 0.0112, Val Acc: 95.70\n",
      "9.700761616230011 minutes\n"
     ]
    },
    {
     "data": {
      "image/png": "[encoded data removed]",
      "text/plain": [
       "<Figure size 720x504 with 1 Axes>"
      ]
     },
     "metadata": {},
     "output_type": "display_data"
    },
    {
     "data": {
      "image/png": "[encoded data removed]",
      "text/plain": [
       "<Figure size 720x504 with 1 Axes>"
      ]
     },
     "metadata": {},
     "output_type": "display_data"
    }
   ],
   "source": [
    "torch.cuda.empty_cache()\n",
    "train_loss , train_accuracy = [], []\n",
    "val_loss , val_accuracy = [], []\n",
    "print(f\"Training on {len(train_data)} examples, validating on {len(val_data)} examples...\")\n",
    "start = time.time()\n",
    "for epoch in range(epochs):\n",
    "    print(f\"Epoch {epoch+1} of {epochs}\")\n",
    "    train_epoch_loss, train_epoch_accuracy = fit(model, trainloader)\n",
    "    val_epoch_loss, val_epoch_accuracy = validate(model, valloader)\n",
    "    train_loss.append(train_epoch_loss)\n",
    "    train_accuracy.append(train_epoch_accuracy)\n",
    "    val_loss.append(val_epoch_loss)\n",
    "    val_accuracy.append(val_epoch_accuracy)\n",
    "end = time.time()\n",
    "print((end-start)/60, 'minutes')\n",
    "\n",
    "torch.save(model.state_dict(), f\"resnet34_epochs{epochs}_triage.pth\")\n",
    "\n",
    "# accuracy plots\n",
    "plt.figure(figsize=(10, 7))\n",
    "plt.plot(train_accuracy, color='green', label='train accuracy')\n",
    "plt.plot(val_accuracy, color='blue', label='validataion accuracy')\n",
    "plt.xlabel('Epochs')\n",
    "plt.ylabel('Accuracy')\n",
    "plt.legend()\n",
    "plt.savefig('accuracy.png')\n",
    "\n",
    "# loss plots\n",
    "plt.figure(figsize=(10, 7))\n",
    "plt.plot(train_loss, color='orange', label='train loss')\n",
    "plt.plot(val_loss, color='red', label='validataion loss')\n",
    "plt.xlabel('Epochs')\n",
    "plt.ylabel('Loss')\n",
    "plt.legend()\n",
    "plt.savefig('loss.png')"
   ]
  },
  {
   "cell_type": "code",
   "execution_count": 20,
   "metadata": {
    "collapsed": false,
    "jupyter": {
     "outputs_hidden": false
    },
    "pycharm": {
     "name": "#%%\n"
    }
   },
   "outputs": [
    {
     "name": "stdout",
     "output_type": "stream",
     "text": [
      "Pickling accuracy and loss lists...\n"
     ]
    },
    {
     "data": {
      "text/plain": [
       "['val_loss.pkl']"
      ]
     },
     "execution_count": 20,
     "metadata": {},
     "output_type": "execute_result"
    }
   ],
   "source": [
    "# save the accuracy and loss lists as pickled files\n",
    "print('Pickling accuracy and loss lists...')\n",
    "joblib.dump(train_accuracy, 'train_accuracy.pkl')\n",
    "joblib.dump(train_loss, 'train_loss.pkl')\n",
    "joblib.dump(val_accuracy, 'val_accuracy.pkl')\n",
    "joblib.dump(val_loss, 'val_loss.pkl')"
   ]
  },
  {
   "cell_type": "code",
   "execution_count": 18,
   "metadata": {
    "collapsed": false,
    "jupyter": {
     "outputs_hidden": false
    },
    "pycharm": {
     "name": "#%%\n"
    }
   },
   "outputs": [
    {
     "name": "stdout",
     "output_type": "stream",
     "text": [
      "tensor([1, 1, 1, 0, 1, 1, 1, 1, 1, 1, 1, 1, 1, 1, 0, 1, 1, 0, 0, 1, 1, 1, 0, 1,\n",
      "        1, 1, 1, 1, 1, 0, 1, 1], device='cuda:0')\n",
      "tensor([1, 0, 1, 1, 1, 1, 1, 1, 1, 1, 1, 1, 1, 1, 1, 0, 1, 1, 1, 0, 0, 0, 1, 1,\n",
      "        1, 1, 1, 1, 0, 1, 1, 1], device='cuda:0')\n",
      "tensor([0, 1, 1, 0, 0, 0, 1, 1, 0, 1, 0, 0, 1, 1, 1, 1, 1, 1, 1, 1, 0, 0, 0, 1,\n",
      "        1, 0, 1, 1, 0, 0, 1, 1], device='cuda:0')\n",
      "tensor([1, 1, 1, 1, 1, 1, 0, 1, 1, 1, 1, 1, 1, 1, 1, 1, 1, 1, 1, 1, 1, 0, 1, 1,\n",
      "        1, 0, 1, 0, 1, 0, 1, 1], device='cuda:0')\n",
      "tensor([1, 1, 1, 1, 0, 1, 1, 1, 0, 0, 0, 1, 0, 1, 1, 0, 1, 0, 1, 0, 1, 1, 1, 0,\n",
      "        1, 1, 1, 0, 0, 1, 0, 1], device='cuda:0')\n",
      "tensor([1, 1, 1, 1, 1, 1, 0, 1, 1, 1, 1, 0, 1, 1, 1, 0, 1, 1, 0, 1, 1, 1, 0, 1,\n",
      "        1, 0, 1, 0, 1, 1, 1, 0], device='cuda:0')\n",
      "tensor([1, 1, 0, 0, 1, 0, 1, 1, 1, 1, 1, 1, 1, 1, 1, 1, 0, 1, 1, 0, 0, 1, 0, 1,\n",
      "        1, 1, 1, 1, 1, 0, 1, 1], device='cuda:0')\n",
      "tensor([1, 0, 1, 1, 0, 1, 1, 1, 1, 1, 1, 1, 1, 1, 1, 1, 1, 1, 1, 0, 1, 1, 0, 0,\n",
      "        0, 1, 1, 1, 1, 1, 1, 0], device='cuda:0')\n",
      "tensor([1, 1, 0, 1, 1, 1, 0, 0, 1, 1, 1, 1, 1, 0, 1, 1, 0, 1, 1, 0, 1, 1, 1, 1,\n",
      "        1, 1, 1, 0, 1, 1, 0, 1], device='cuda:0')\n",
      "tensor([1, 0, 1, 1, 0, 0, 0, 1, 1, 1, 0, 1, 0, 1, 1, 1, 1, 1, 1, 1, 1, 0, 1, 0,\n",
      "        1, 1, 1, 1, 1, 1, 1, 1], device='cuda:0')\n",
      "tensor([1, 0, 0, 0, 1, 1, 1, 1, 1, 1, 0, 1, 1, 1, 0, 0, 1, 1, 1, 1, 1, 1, 1, 1,\n",
      "        0, 1, 1, 1, 1, 1, 1, 1], device='cuda:0')\n",
      "tensor([1, 1, 1, 0, 1, 1, 1, 1, 1, 0, 1, 1, 1, 1, 0, 0, 1, 1, 1, 0, 1, 0, 0, 1,\n",
      "        1, 1, 1, 0, 1, 1, 1, 1], device='cuda:0')\n",
      "tensor([1, 1, 1, 1, 1, 0, 1, 1, 1, 1, 1, 0, 1, 1, 1, 1, 1, 0, 0, 1, 1, 1, 0, 1,\n",
      "        1, 1, 1, 1, 0, 0, 1, 1], device='cuda:0')\n",
      "tensor([0, 1, 1, 1, 0, 1, 0, 0, 1, 1, 1, 1, 1, 1, 1, 1, 1, 1, 1, 0, 1, 1, 1, 0,\n",
      "        0, 1, 1, 1, 1, 1, 1, 1], device='cuda:0')\n",
      "tensor([0, 1, 0, 1, 1, 1, 0, 0, 1, 1, 1, 0, 1, 1, 1, 0, 1, 0, 1, 1, 0, 0, 0, 1,\n",
      "        0, 0, 0, 1, 1, 1, 0, 1], device='cuda:0')\n",
      "tensor([1, 1, 0, 0, 0, 1, 1, 1, 1, 1, 1, 1, 0, 1, 0, 1, 1, 1, 1, 1, 0, 1, 1, 1,\n",
      "        1, 1, 1, 1, 1, 1, 0, 1], device='cuda:0')\n",
      "tensor([1, 0, 0, 1, 1, 1, 0, 1, 0, 1, 1, 1, 1, 1, 0, 0, 1, 1, 0, 1, 0, 1, 1, 1,\n",
      "        1, 1, 1, 0, 0, 1, 1, 1], device='cuda:0')\n",
      "tensor([0, 1, 0, 1, 1, 1, 0, 0, 1, 1, 1, 1, 1, 1, 0, 1, 1, 0, 1, 0, 1, 0, 1, 1,\n",
      "        1, 0, 1, 1, 0, 1, 0, 1], device='cuda:0')\n",
      "tensor([1, 1, 0, 1, 1, 0, 0, 1, 1, 1, 1, 1, 0, 1, 1, 0, 1, 1, 0, 1, 0, 0, 1, 1,\n",
      "        0, 1, 1, 1, 0, 1, 1, 1], device='cuda:0')\n",
      "tensor([1, 0, 1, 1, 1, 0, 0, 0, 1, 1, 0, 1, 0, 0, 1, 1, 0, 1, 1, 1, 1, 1, 1, 0,\n",
      "        1, 1, 1, 1, 1, 1, 1, 0], device='cuda:0')\n",
      "tensor([1, 1, 1, 1, 1, 0, 0, 0, 0, 1, 1, 1, 0, 1, 0, 1, 0, 1, 1, 1, 1, 1, 1, 0,\n",
      "        1, 1, 0, 1, 1, 0, 0, 0], device='cuda:0')\n",
      "tensor([0, 1, 1, 0, 1, 1, 1, 1, 0, 1, 1, 1, 1, 0, 1, 1, 1, 1, 1, 1, 0, 1, 1, 1,\n",
      "        1, 1, 1, 1, 1, 1, 1, 1], device='cuda:0')\n",
      "tensor([1, 0, 1, 1, 1, 1, 1, 1, 1, 1, 1, 0, 0, 1, 0, 1, 1, 0, 1, 1, 0, 1, 1, 1,\n",
      "        1, 1, 1, 1, 1, 1, 1, 1], device='cuda:0')\n",
      "tensor([1, 1, 0, 1, 0, 1, 1, 1, 1, 1, 0, 1, 0, 1, 1, 0, 1, 1, 1, 0, 1, 1, 1, 1,\n",
      "        0, 0, 1, 1, 0, 1, 0, 1], device='cuda:0')\n",
      "tensor([1, 1, 1, 1, 1, 1, 1, 1, 1, 0, 1, 0, 0, 1, 1, 1, 1, 1, 1, 0, 1, 1, 1, 0,\n",
      "        1, 1, 1, 0, 1, 1, 1, 0], device='cuda:0')\n",
      "tensor([1, 0, 1, 0, 1, 1, 1, 1, 1, 1, 1, 1, 1, 1, 0, 0, 1, 1, 1, 1, 1, 1, 1, 1,\n",
      "        1, 1, 0, 0, 1, 1, 0, 1], device='cuda:0')\n",
      "tensor([0, 0, 0, 1, 1, 1, 1, 1, 1, 1, 1, 1, 1, 1, 1, 0, 0, 1, 1, 0, 1, 0, 0, 1,\n",
      "        1, 1, 1, 0, 1, 1, 1, 1], device='cuda:0')\n",
      "tensor([1, 1, 0, 1, 1, 1, 1, 1, 1, 0, 0, 1, 0, 1, 1, 1, 0, 1, 0, 0, 1, 1, 1, 0,\n",
      "        1, 0, 1, 1, 1, 0, 1, 1], device='cuda:0')\n",
      "tensor([1, 1, 1, 0, 1, 0, 1, 0, 1, 1, 1, 1, 1, 1, 0, 1, 1, 1, 1, 0, 1, 1, 1, 1,\n",
      "        1, 1, 0, 1, 0, 1, 0, 1], device='cuda:0')\n",
      "tensor([1, 1, 1, 1, 1, 1, 1, 1, 1, 1, 0, 1, 0, 0, 1, 1, 0, 0, 1, 1, 0, 1, 1, 1,\n",
      "        1, 1, 1, 1, 1, 1, 1, 1], device='cuda:0')\n",
      "tensor([1, 0, 1, 0, 1, 1, 0, 1, 1, 1, 1, 0, 1, 1, 0, 1, 1, 1, 1, 1, 0, 1, 1, 1,\n",
      "        1, 1, 1, 1, 1, 1, 1, 1], device='cuda:0')\n",
      "tensor([0, 1, 0, 0, 0, 0, 0, 1, 1, 1, 0, 1, 1, 0, 1, 0, 1, 0, 0, 1, 1, 1, 1, 0,\n",
      "        0, 1, 1, 1, 0, 1, 0, 1], device='cuda:0')\n",
      "tensor([0, 1, 1, 0, 1, 1, 1, 1, 1, 1, 0, 1, 1, 1, 1, 1, 1, 0, 1, 1, 1, 1, 1],\n",
      "       device='cuda:0')\n",
      "987 1047\n",
      "Accuracy of the network on test images: 94.269 %\n",
      "train.py finished running\n"
     ]
    }
   ],
   "source": [
    "correct, total = test(model, testloader)\n",
    "print(correct, total)\n",
    "print('Accuracy of the network on test images: %0.3f %%' % (100 * correct / total))\n",
    "print('train.py finished running')"
   ]
  },
  {
   "cell_type": "code",
   "execution_count": 21,
   "metadata": {
    "collapsed": false,
    "jupyter": {
     "outputs_hidden": false
    },
    "pycharm": {
     "name": "#%%\n"
    }
   },
   "outputs": [
    {
     "name": "stdout",
     "output_type": "stream",
     "text": [
      "tensor([1, 0, 0, 1, 1, 0, 0, 0, 0, 1, 1, 1, 0, 0, 0, 1, 1, 1, 0, 0, 1, 1, 1, 0,\n",
      "        0, 0, 1, 0, 0, 1, 0, 1], device='cuda:0')\n",
      "tensor([1, 0, 1, 1, 0, 0, 0, 0, 1, 0, 0, 0, 1, 1, 1, 1, 1, 0, 0, 1, 1, 0, 1, 0,\n",
      "        0, 0, 0, 1, 0, 1, 1, 0], device='cuda:0')\n",
      "tensor([0, 0, 1, 1, 1, 0, 0, 0, 1, 0, 0, 1, 0, 0, 0, 0, 1, 0, 0, 1, 0, 1, 1, 0,\n",
      "        1, 1, 0, 0, 0, 1, 0, 0], device='cuda:0')\n",
      "tensor([0, 1, 1, 1, 0, 1, 0, 1, 1, 0, 0, 0, 0, 1, 1, 0, 0, 1, 0, 1, 1, 1, 1, 1,\n",
      "        1, 1, 1, 1, 1, 0, 1, 0], device='cuda:0')\n",
      "tensor([1, 1, 1, 1, 1, 1, 1, 1, 1, 1, 1, 1, 1, 1, 1, 1, 1, 1, 1, 1, 1, 1, 0, 1,\n",
      "        0, 1, 0, 0, 0, 0, 1, 1], device='cuda:0')\n",
      "tensor([1, 0, 0, 1, 0, 1, 1, 1, 0, 0, 0, 1, 1, 0, 0, 0, 0, 0, 0, 0, 1, 1, 1, 1,\n",
      "        1, 0, 1, 0, 0, 0, 1, 0], device='cuda:0')\n",
      "tensor([0, 1, 1, 0, 0, 0, 1, 0, 1, 1, 0, 0, 1, 0, 0, 0, 0, 1, 0, 0, 0, 1, 0, 0,\n",
      "        1, 1, 0, 0, 1, 1, 1, 1], device='cuda:0')\n",
      "tensor([0, 0, 1, 0, 1, 0, 1, 1, 0, 1, 1, 1, 1, 1, 1, 1, 1, 1, 1, 1, 1, 1, 1, 1,\n",
      "        1, 1, 1, 1, 1, 1, 1, 1], device='cuda:0')\n",
      "tensor([1, 1, 1, 1, 1, 1, 1, 1, 1, 1, 1, 1, 1, 1, 1, 1, 0, 1, 1, 1, 1, 1, 1, 1,\n",
      "        1, 1, 1, 1, 1, 1, 1, 1], device='cuda:0')\n",
      "tensor([1, 1, 1, 1, 1, 1, 1, 1, 1, 1, 1, 1, 1, 1, 1, 1, 1, 1, 1, 1, 1, 1, 1, 1,\n",
      "        1, 1, 1, 1, 1, 1, 1, 1], device='cuda:0')\n",
      "tensor([1, 1, 1, 1, 1, 1, 1, 1, 1, 1, 1, 1, 1, 1, 1, 1, 1, 1, 1, 1, 1, 1, 1, 1,\n",
      "        1, 1, 1, 1, 1, 1, 1, 1], device='cuda:0')\n",
      "tensor([1, 1, 1, 1, 1, 1, 1, 1, 1, 1, 1, 1, 1, 1, 1, 1, 1, 1, 1, 1, 1, 1, 1, 1,\n",
      "        1, 1, 1, 1, 1, 1, 1, 1], device='cuda:0')\n",
      "tensor([1, 1, 1, 1, 1, 1, 1, 0, 1, 1, 1, 1, 1, 1, 1, 1, 1, 1, 1, 1, 0, 1, 1, 1,\n",
      "        1, 1, 1, 1, 1, 1, 1, 1], device='cuda:0')\n",
      "tensor([1, 1, 1, 1, 1, 1, 1, 1, 1, 1, 1, 1, 1, 1, 1, 1, 1, 1, 1, 1, 1, 1, 1, 1,\n",
      "        1, 1, 1, 1, 1, 1, 1, 1], device='cuda:0')\n",
      "tensor([1, 1, 1, 1, 1, 1, 1, 1, 1, 1, 1, 1, 1, 1, 1, 1, 1, 1, 1, 1, 1, 1, 1, 1,\n",
      "        1, 1, 1, 1, 1, 1, 1, 1], device='cuda:0')\n",
      "tensor([1, 1, 1, 1, 1, 1, 1, 1, 1, 1, 1, 1, 1, 1, 1, 1, 1, 1, 1, 1, 1, 1, 1, 1,\n",
      "        1, 1, 1, 1, 1, 1, 1, 1], device='cuda:0')\n",
      "tensor([1, 1, 1, 1, 1, 1, 1, 1, 1, 1, 1, 1, 1, 1, 1, 1, 1, 1, 1, 1, 1, 1, 1, 1,\n",
      "        1, 1, 1, 1, 1, 1, 1, 1], device='cuda:0')\n",
      "tensor([1, 1, 1, 1, 1, 1, 1, 1, 1, 1, 1, 1, 1, 1, 1, 1, 1, 1, 1, 1, 1, 1, 1, 1,\n",
      "        1, 1, 1, 1, 1, 1, 1, 1], device='cuda:0')\n",
      "tensor([1, 1, 1, 1, 1, 1, 1, 1, 1, 1, 1, 1, 1, 1, 1, 1, 1, 1, 1, 1, 1, 1, 1, 1,\n",
      "        1, 1, 1, 1, 1, 1, 1, 1], device='cuda:0')\n",
      "tensor([1, 1, 1, 1, 1, 1, 1, 1, 1, 1, 1, 1, 1, 1, 1, 1], device='cuda:0')\n",
      "500 624\n",
      "Accuracy of the network on test images: 80.128 %\n",
      "train.py finished running\n"
     ]
    }
   ],
   "source": [
    "(x_ftest, y_ftest) = (t_data, t_labels_trans)\n",
    "final_test_data = ImageDataset(x_ftest, y_ftest, val_transform)\n",
    "final_testloader = DataLoader(final_test_data, batch_size=BATCH_SIZE, shuffle=False)\n",
    "\n",
    "correct, total = test(model, final_testloader)\n",
    "print(correct, total)\n",
    "print('Accuracy of the network on test images: %0.3f %%' % (100 * correct / total))\n",
    "print('train.py finished running')"
   ]
  },
  {
   "cell_type": "code",
   "execution_count": 22,
   "metadata": {
    "collapsed": false,
    "jupyter": {
     "outputs_hidden": false
    },
    "pycharm": {
     "name": "#%%\n"
    }
   },
   "outputs": [
    {
     "name": "stdout",
     "output_type": "stream",
     "text": [
      "parsing done.\n"
     ]
    }
   ],
   "source": [
    "import re\n",
    "\n",
    "pat1 = r'%s(.+?)%s' % ('\\[', '\\]')\n",
    "p = re.compile(pat1, re.IGNORECASE)\n",
    "\n",
    "with open('result_raw.txt', 'r') as in_file:\n",
    "    with open('result.txt', 'w', encoding='utf-8', newline='\\n') as out_file:\n",
    "        lines = in_file.readlines()\n",
    "        for line in lines:\n",
    "            row = re.findall(p, line)\n",
    "            if row:\n",
    "                num_list = [str(x.strip()) for x in row[0].split(',')]\n",
    "                for i in num_list:\n",
    "                    out_file.write(i)\n",
    "                    out_file.write('\\n')\n",
    "\n",
    "print('parsing done.')"
   ]
  },
  {
   "cell_type": "code",
   "execution_count": 23,
   "metadata": {
    "collapsed": false,
    "jupyter": {
     "outputs_hidden": false
    },
    "pycharm": {
     "name": "#%%\n"
    }
   },
   "outputs": [
    {
     "name": "stdout",
     "output_type": "stream",
     "text": [
      "94.90121096239643\n"
     ]
    }
   ],
   "source": [
    "train_acc = joblib.load('train_accuracy.pkl')\n",
    "print(np.mean(train_acc))"
   ]
  },
  {
   "cell_type": "code",
   "execution_count": 24,
   "metadata": {
    "collapsed": false,
    "jupyter": {
     "outputs_hidden": false
    },
    "pycharm": {
     "name": "#%%\n"
    }
   },
   "outputs": [],
   "source": [
    "torch.save(model, \"resnet34_epochs40_diagnose_entire.pth\")"
   ]
  }
 ],
 "metadata": {
  "kernelspec": {
   "display_name": "Python 3",
   "language": "python",
   "name": "python3"
  },
  "language_info": {
   "codemirror_mode": {
    "name": "ipython",
    "version": 3
   },
   "file_extension": ".py",
   "mimetype": "text/x-python",
   "name": "python",
   "nbconvert_exporter": "python",
   "pygments_lexer": "ipython3",
   "version": "3.7.9"
  }
 },
 "nbformat": 4,
 "nbformat_minor": 4
}
